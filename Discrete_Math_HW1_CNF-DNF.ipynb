{
 "cells": [
  {
   "cell_type": "markdown",
   "metadata": {},
   "source": [
    "# Discrete Mathematics HW1"
   ]
  },
  {
   "cell_type": "markdown",
   "metadata": {},
   "source": [
    "## Convert input to mathematical formula"
   ]
  },
  {
   "cell_type": "code",
   "execution_count": 1,
   "metadata": {},
   "outputs": [],
   "source": [
    "def refactor(s,v):\n",
    "    s = [i for i in  s.replace(' ','').replace('\\\\/', '1').replace('/\\\\', '2').replace('->', '3')]    \n",
    "    i = 0\n",
    "    while(i < len(s)):    \n",
    "        if(s[i] == '3'):                        \n",
    "            if(s[i-1] != ')'):\n",
    "                s.insert(i-1,'~')\n",
    "                s[i+1] = '1'                \n",
    "            else:\n",
    "                counter = 1\n",
    "                for j in range(i-2,-1,-1):\n",
    "                    if(s[j] == ')'):\n",
    "                        counter += 1\n",
    "                    if(s[j] == '('):\n",
    "                        counter -= 1                    \n",
    "                    if(counter == 0):                        \n",
    "                        s.insert(j,'~')                        \n",
    "                        break\n",
    "                s[i+1] = '1'   \n",
    "        i += 1\n",
    "    \n",
    "    s = ''.join(s)\n",
    "    rep = ['p[i]', 'q[i]', 'r[i]']\n",
    "    for i in range(len(v)):    \n",
    "        s = s.replace(v[i], rep[i])\n",
    "    return s.replace('1',' or ').replace('2', ' and ').replace('~~','').replace('~',' not ').replace('  ',' ')"
   ]
  },
  {
   "cell_type": "markdown",
   "metadata": {},
   "source": [
    "## Finding variables in our formula"
   ]
  },
  {
   "cell_type": "code",
   "execution_count": 2,
   "metadata": {},
   "outputs": [],
   "source": [
    "# Finding variables in formula\n",
    "def Vars(s):\n",
    "     return uniq(list([i for i in s if i not in [' ','-','/','\\\\','>','~','(',')']]))\n",
    "\n",
    "# Make \n",
    "def uniq(input):\n",
    "    output = []\n",
    "    for x in input:\n",
    "        if x not in output:\n",
    "            output.append(x)\n",
    "    return output"
   ]
  },
  {
   "cell_type": "markdown",
   "metadata": {},
   "source": [
    "## CNF & DNF creator"
   ]
  },
  {
   "cell_type": "code",
   "execution_count": 3,
   "metadata": {},
   "outputs": [],
   "source": [
    "def CD_creator(p, q, r, result, v):\n",
    "    DNF_form = ''\n",
    "    CNF_form = ''\n",
    "    DC_form = []\n",
    "    No_DNF = result.count(True) - 1\n",
    "    No_CNF = result.count(False) - 1\n",
    "    for i in range(len(result)):\n",
    "        \n",
    "        ## Create DNF formula\n",
    "        if result[i] == True:\n",
    "            if p[i] == 0:\n",
    "                DNF_form = DNF_form + '(~' + v[0]\n",
    "            else:\n",
    "                DNF_form = DNF_form + '(' + v[0]\n",
    "            if len(v) > 1:\n",
    "                DNF_form = DNF_form + ' /\\\\ '\n",
    "                if q[i] == 0:\n",
    "                    DNF_form = DNF_form + ' ~' + v[1]\n",
    "                else:\n",
    "                    DNF_form = DNF_form + '' + v[1] \n",
    "            if len(v) > 2:\n",
    "                DNF_form = DNF_form + ' /\\\\ '\n",
    "                if r[i] == 0:\n",
    "                    DNF_form = DNF_form + ' ~' + v[2] + ') '\n",
    "                else:\n",
    "                    DNF_form = DNF_form + '' + v[2] + ')'\n",
    "            else:\n",
    "                DNF_form = DNF_form + ')'\n",
    "            if  No_DNF > 0:\n",
    "                DNF_form = DNF_form + ' \\\\/ '\n",
    "                No_DNF -= 1\n",
    "                \n",
    "        ## Create CNF formula       \n",
    "        elif result[i] == False:\n",
    "            if p[i] == 0:\n",
    "                CNF_form = CNF_form + '(' + v[0]\n",
    "            else:\n",
    "                CNF_form = CNF_form + '(~' + v[0]\n",
    "            if len(v) > 1:\n",
    "                CNF_form = CNF_form + ' \\\\/ '\n",
    "                if q[i] == 0:\n",
    "                    CNF_form = CNF_form + '' + v[1]\n",
    "                else:\n",
    "                    CNF_form = CNF_form + ' ~' + v[1] \n",
    "            if len(v) > 2:\n",
    "                CNF_form = CNF_form + ' \\\\/ '\n",
    "                if r[i] == 0:\n",
    "                    CNF_form = CNF_form + '' + v[2] + ') '\n",
    "                else:\n",
    "                    CNF_form = CNF_form + '~' + v[2] + ')'\n",
    "            else:\n",
    "                CNF_form = CNF_form + ')'\n",
    "            if No_CNF > 0:\n",
    "                CNF_form = CNF_form + ' /\\\\ '\n",
    "                No_CNF -= 1\n",
    "            \n",
    "    DC_form.append(DNF_form)\n",
    "    DC_form.append(CNF_form)\n",
    "    return DC_form"
   ]
  },
  {
   "cell_type": "markdown",
   "metadata": {},
   "source": [
    "## Please insert your input here  (s = ' ')"
   ]
  },
  {
   "cell_type": "code",
   "execution_count": 6,
   "metadata": {},
   "outputs": [
    {
     "name": "stdout",
     "output_type": "stream",
     "text": [
      "The input formula is:\n",
      "\t(q -> p) /\\ (q -> ~p) /\\ (q -> ~q)\n",
      "\n",
      "DNF format:\n",
      "\t(~p /\\ ~q) \\/ (p /\\ ~q)\n",
      "\n",
      "CNF format:\n",
      "\t(p \\/ ~q) /\\ (~p \\/ ~q)\n",
      "\n"
     ]
    }
   ],
   "source": [
    "## Insert input\n",
    "#s = '(p \\/ q) -> r'\n",
    "#s = '(p \\/ q) \\/ ((p /\\ q \\/ r)) -> r \\/ p -> q'\n",
    "s = '(q -> p) /\\ (q -> ~p) /\\ (q -> ~q)'\n",
    "\n",
    "v = sorted(Vars(s))\n",
    "\n",
    "# Make truth table for var\n",
    "p,q,r = [],[],[]\n",
    "for i in [0,1]:\n",
    "    if len(v)>1:  \n",
    "        for j in [0,1]:\n",
    "            if len(v)>2:\n",
    "                for k in [0,1]:\n",
    "                    p.append(i)\n",
    "                    q.append(j)\n",
    "                    r.append(k)\n",
    "            else: \n",
    "                p.append(i) \n",
    "                q.append(j)\n",
    "    else: p.append(i)\n",
    "\n",
    "final_formula = refactor(s,v)\n",
    "final_formula\n",
    "# Calculate the boolean formula\n",
    "result = []\n",
    "for i in range(len(p)):\n",
    "    result.append(bool(eval(final_formula)))\n",
    "\n",
    "result\n",
    "\n",
    "# Make CNF and DNF\n",
    "if len(v) == 1:\n",
    "    DC_form = CD_creator(p, q, r, result, v)\n",
    "elif len(v) == 2:\n",
    "    DC_form = CD_creator(p, q, r, result, v)\n",
    "elif len(v) == 3:\n",
    "    DC_form = CD_creator(p, q, r, result, v)\n",
    "\n",
    "DNF_form = DC_form[0]\n",
    "DNF_form = DNF_form.replace('  ', ' ')\n",
    "CNF_form = DC_form[1]\n",
    "CNF_form = CNF_form.replace('  ', ' ')\n",
    "\n",
    "print ('The input formula is:\\n\\t' + s + '\\n')\n",
    "print ('DNF format:\\n\\t' + DNF_form + '\\n')\n",
    "print ('CNF format:\\n\\t' + CNF_form + '\\n')"
   ]
  },
  {
   "cell_type": "code",
   "execution_count": null,
   "metadata": {},
   "outputs": [],
   "source": []
  }
 ],
 "metadata": {
  "kernelspec": {
   "display_name": "Python 3",
   "language": "python",
   "name": "python3"
  },
  "language_info": {
   "codemirror_mode": {
    "name": "ipython",
    "version": 3
   },
   "file_extension": ".py",
   "mimetype": "text/x-python",
   "name": "python",
   "nbconvert_exporter": "python",
   "pygments_lexer": "ipython3",
   "version": "3.8.3"
  }
 },
 "nbformat": 4,
 "nbformat_minor": 4
}
